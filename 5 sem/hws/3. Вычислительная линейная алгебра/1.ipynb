{
  "cells": [
    {
      "cell_type": "markdown",
      "metadata": {
        "id": "MeXTSdSfKdL2"
      },
      "source": [
        "## Задача 1. Реализация методов СЛАУ для уравнения Пуассона.\n"
      ]
    },
    {
      "cell_type": "code",
      "execution_count": 1,
      "metadata": {
        "id": "LzmRwqsdT_fG"
      },
      "outputs": [],
      "source": [
        "import numpy as np\n",
        "from scipy.linalg import block_diag"
      ]
    },
    {
      "cell_type": "markdown",
      "metadata": {
        "id": "sjDDFRsWT21t"
      },
      "source": [
        "Рассмотрим систему линейных уравнений, матрица правой части которой является \"ленточной\" и имеет следующую структуру: ненулевые элементы расположены на трех центральных диагонялях и на двух \"крыльях\". Матрицы такой структуры возникают, например, при решении задачи на нахождение электростатического потенциала $\\phi(x, y)$, создаваемого двумерным распределением заряда $\\rho(x, y)$ при дискретизации на сетке уравнения Пуассона\n",
        "\n",
        "$$\n",
        "\\Delta \\phi=-4 \\pi \\rho .\n",
        "$$\n",
        "\n",
        "(детали см. напр. А.А. Самарский, А.В. Гулин, Численные методы, Ч. 3 гл. 1, параграф 1).\n",
        "Размер матрицы растет с уменьшением шага сетки $h$ как $O\\left(1 / h^2\\right)$. Таким образом, приходится иметь дело с разреженными матрицами огромного размера.\n",
        "Матрицу m создадим следующим образом:"
      ]
    },
    {
      "cell_type": "code",
      "execution_count": 2,
      "metadata": {
        "id": "6hrAbM4sUE30"
      },
      "outputs": [],
      "source": [
        "n = 5\n",
        "\n",
        "# Диагональный блок\n",
        "a = np.zeros((n-1, n-1))\n",
        "\n",
        "idx = np.arange(n-1)\n",
        "\n",
        "a[idx, idx] = -4\n",
        "a[idx[:-1], idx[:-1]+1] = 1\n",
        "a[idx[1:], idx[1:]-1] = 1\n",
        "\n",
        "# собираем блочно-диагональную `m`\n",
        "m = block_diag(a, a, a, a, a)\n",
        "\n",
        "# заполняем \"крылья\"\n",
        "idx = np.arange(m.shape[0])\n",
        "\n",
        "m[idx[:-n+1], idx[:-n+1] + n-1] = 1\n",
        "m[idx[n-1:], idx[n-1:] - n+1] = 1\n",
        "\n"
      ]
    },
    {
      "cell_type": "code",
      "execution_count": 3,
      "metadata": {
        "colab": {
          "base_uri": "https://localhost:8080/"
        },
        "id": "Zs2y2E6aUMqU",
        "outputId": "7b1878c9-d6b6-4313-bf78-e96b37156fae"
      },
      "outputs": [
        {
          "name": "stdout",
          "output_type": "stream",
          "text": [
            "[[-4.  1.  0.  0.  1.  0.  0.  0.  0.  0.  0.  0.  0.  0.  0.  0.  0.  0.  0.  0.]\n",
            " [ 1. -4.  1.  0.  0.  1.  0.  0.  0.  0.  0.  0.  0.  0.  0.  0.  0.  0.  0.  0.]\n",
            " [ 0.  1. -4.  1.  0.  0.  1.  0.  0.  0.  0.  0.  0.  0.  0.  0.  0.  0.  0.  0.]\n",
            " [ 0.  0.  1. -4.  0.  0.  0.  1.  0.  0.  0.  0.  0.  0.  0.  0.  0.  0.  0.  0.]\n",
            " [ 1.  0.  0.  0. -4.  1.  0.  0.  1.  0.  0.  0.  0.  0.  0.  0.  0.  0.  0.  0.]\n",
            " [ 0.  1.  0.  0.  1. -4.  1.  0.  0.  1.  0.  0.  0.  0.  0.  0.  0.  0.  0.  0.]\n",
            " [ 0.  0.  1.  0.  0.  1. -4.  1.  0.  0.  1.  0.  0.  0.  0.  0.  0.  0.  0.  0.]\n",
            " [ 0.  0.  0.  1.  0.  0.  1. -4.  0.  0.  0.  1.  0.  0.  0.  0.  0.  0.  0.  0.]\n",
            " [ 0.  0.  0.  0.  1.  0.  0.  0. -4.  1.  0.  0.  1.  0.  0.  0.  0.  0.  0.  0.]\n",
            " [ 0.  0.  0.  0.  0.  1.  0.  0.  1. -4.  1.  0.  0.  1.  0.  0.  0.  0.  0.  0.]\n",
            " [ 0.  0.  0.  0.  0.  0.  1.  0.  0.  1. -4.  1.  0.  0.  1.  0.  0.  0.  0.  0.]\n",
            " [ 0.  0.  0.  0.  0.  0.  0.  1.  0.  0.  1. -4.  0.  0.  0.  1.  0.  0.  0.  0.]\n",
            " [ 0.  0.  0.  0.  0.  0.  0.  0.  1.  0.  0.  0. -4.  1.  0.  0.  1.  0.  0.  0.]\n",
            " [ 0.  0.  0.  0.  0.  0.  0.  0.  0.  1.  0.  0.  1. -4.  1.  0.  0.  1.  0.  0.]\n",
            " [ 0.  0.  0.  0.  0.  0.  0.  0.  0.  0.  1.  0.  0.  1. -4.  1.  0.  0.  1.  0.]\n",
            " [ 0.  0.  0.  0.  0.  0.  0.  0.  0.  0.  0.  1.  0.  0.  1. -4.  0.  0.  0.  1.]\n",
            " [ 0.  0.  0.  0.  0.  0.  0.  0.  0.  0.  0.  0.  1.  0.  0.  0. -4.  1.  0.  0.]\n",
            " [ 0.  0.  0.  0.  0.  0.  0.  0.  0.  0.  0.  0.  0.  1.  0.  0.  1. -4.  1.  0.]\n",
            " [ 0.  0.  0.  0.  0.  0.  0.  0.  0.  0.  0.  0.  0.  0.  1.  0.  0.  1. -4.  1.]\n",
            " [ 0.  0.  0.  0.  0.  0.  0.  0.  0.  0.  0.  0.  0.  0.  0.  1.  0.  0.  1. -4.]]\n"
          ]
        }
      ],
      "source": [
        "with np.printoptions(linewidth=99):\n",
        "    print(m)"
      ]
    },
    {
      "cell_type": "code",
      "execution_count": 4,
      "metadata": {
        "colab": {
          "base_uri": "https://localhost:8080/",
          "height": 454
        },
        "id": "00ARqsCMUTYU",
        "outputId": "f0740450-1816-49c7-d1b4-cedba512c327"
      },
      "outputs": [
        {
          "data": {
            "text/plain": [
              "<matplotlib.image.AxesImage at 0x762dd3f4d000>"
            ]
          },
          "execution_count": 4,
          "metadata": {},
          "output_type": "execute_result"
        },
        {
          "data": {
            "image/png": "[encoded data removed]",
            "text/plain": [
              "<Figure size 480x480 with 1 Axes>"
            ]
          },
          "metadata": {},
          "output_type": "display_data"
        }
      ],
      "source": [
        "import matplotlib.pyplot as plt\n",
        "plt.matshow(m)"
      ]
    },
    {
      "cell_type": "markdown",
      "metadata": {
        "id": "qnvmVd-sUXmJ"
      },
      "source": [
        "Зададим вектор правой части системы"
      ]
    },
    {
      "cell_type": "code",
      "execution_count": 5,
      "metadata": {
        "id": "ON2UK0b_UX-1"
      },
      "outputs": [],
      "source": [
        "b = np.zeros(m.shape[0])\n",
        "b[m.shape[0]//2] = -1"
      ]
    },
    {
      "cell_type": "markdown",
      "metadata": {
        "id": "0f4hTw0xUbQN"
      },
      "source": [
        "Составить функцию, вычисляющую решение системы уравнений $m x=b$ описанными ниже методами с заданной точностью $\\epsilon$. Построить в каждом случае зависимость числа итераций, требуемых для достижения заданной точности, от $\\epsilon$.\n",
        "\n",
        "**Первый метод.**\n",
        "\n",
        "- Создать эту же матрицу с помощью [scipy.sparse.csc_matrix](https://docs.scipy.org/doc/scipy/reference/generated/scipy.sparse.csc_matrix.html).\n",
        "\n",
        "- Создать эту же матрицу с помощью [scipy.sparse.diags](https://docs.scipy.org/doc/scipy/reference/generated/scipy.sparse.diags.html).\n",
        "\n",
        "- Создать эту же матрицу с помощью [scipy.sparse.spdiags](https://docs.scipy.org/doc/scipy/reference/generated/scipy.sparse.sdiags.html).\n",
        "\n",
        "\n",
        "- Решите полученную систему с помощью встроенного метода прогонки для полосатых матриц (составленных из диагоналей) [scipy.linalg.solve_banded](https://docs.scipy.org/doc/scipy/reference/generated/scipy.linalg.solve_banded.html).\n",
        "\n",
        "**Второй метод.**\n",
        "\n",
        "- Решите полученную систему с помощью встроенного прямого метода для полосатых матриц (составленных из диагоналей) [scipy.sparse.linalg.spsolve](https://docs.scipy.org/doc/scipy/reference/generated/scipy.sparse.linalg.spsolve.html).\n",
        "\n",
        "**Третий метод.**\n",
        "\n",
        "- Напишите распараллеленый метод Зейделя, ускорив его с помощью Numba. Указание: достаточно взять из файла реализованный метод jacobi_solve_numb и слегка его изменить.  Распараллеливание было там же, с помощью series_timed_numba.  \n",
        "\n",
        "\n",
        "\n"
      ]
    },
    {
      "cell_type": "code",
      "execution_count": 15,
      "metadata": {},
      "outputs": [
        {
          "name": "stdout",
          "output_type": "stream",
          "text": [
            "spsolve solution for eps=0.01:\n",
            "[0.02602508 0.05134394 0.06553918 0.03890999 0.05275637 0.1138115\n",
            " 0.17190279 0.09010077 0.07118891 0.1792429  0.4181597  0.14959031\n",
            " 0.05275637 0.1138115  0.17190279 0.09010077 0.02602508 0.05134394\n",
            " 0.06553918 0.03890999]\n",
            "spsolve solution for eps=0.001:\n",
            "[0.02602508 0.05134394 0.06553918 0.03890999 0.05275637 0.1138115\n",
            " 0.17190279 0.09010077 0.07118891 0.1792429  0.4181597  0.14959031\n",
            " 0.05275637 0.1138115  0.17190279 0.09010077 0.02602508 0.05134394\n",
            " 0.06553918 0.03890999]\n",
            "spsolve solution for eps=0.0001:\n",
            "[0.02602508 0.05134394 0.06553918 0.03890999 0.05275637 0.1138115\n",
            " 0.17190279 0.09010077 0.07118891 0.1792429  0.4181597  0.14959031\n",
            " 0.05275637 0.1138115  0.17190279 0.09010077 0.02602508 0.05134394\n",
            " 0.06553918 0.03890999]\n",
            "spsolve solution for eps=1e-05:\n",
            "[0.02602508 0.05134394 0.06553918 0.03890999 0.05275637 0.1138115\n",
            " 0.17190279 0.09010077 0.07118891 0.1792429  0.4181597  0.14959031\n",
            " 0.05275637 0.1138115  0.17190279 0.09010077 0.02602508 0.05134394\n",
            " 0.06553918 0.03890999]\n",
            "spsolve solution for eps=1e-06:\n",
            "[0.02602508 0.05134394 0.06553918 0.03890999 0.05275637 0.1138115\n",
            " 0.17190279 0.09010077 0.07118891 0.1792429  0.4181597  0.14959031\n",
            " 0.05275637 0.1138115  0.17190279 0.09010077 0.02602508 0.05134394\n",
            " 0.06553918 0.03890999]\n"
          ]
        },
        {
          "data": {
            "image/png": "[encoded data removed]",
            "text/plain": [
              "<Figure size 640x480 with 1 Axes>"
            ]
          },
          "metadata": {},
          "output_type": "display_data"
        }
      ],
      "source": [
        "import numpy as np\n",
        "import scipy.sparse as sparse\n",
        "import scipy.sparse.linalg as spla\n",
        "import scipy.linalg as la\n",
        "import matplotlib.pyplot as plt\n",
        "from scipy.linalg import block_diag\n",
        "from numba import njit\n",
        "import time\n",
        "\n",
        "\n",
        "def create_banded_matrix(n):\n",
        "    a = np.zeros((n-1, n-1))\n",
        "    idx = np.arange(n-1)\n",
        "    a[idx, idx] = -4\n",
        "    a[idx[:-1], idx[:-1]+1] = 1\n",
        "    a[idx[1:], idx[1:]-1] = 1\n",
        "    m = block_diag(a, a, a, a, a)\n",
        "    idx = np.arange(m.shape[0])\n",
        "    m[idx[:-n+1], idx[:-n+1] + n-1] = 1\n",
        "    m[idx[n-1:], idx[n-1:] - n+1] = 1\n",
        "    return m\n",
        "\n",
        "\n",
        "def create_csc_matrix(m):\n",
        "    return sparse.csc_matrix(m)\n",
        "\n",
        "\n",
        "def create_diags_matrix(m, n):\n",
        "    diagonals = [np.ones(m.shape[0] - n + 1), np.ones(m.shape[0] - 1), -4 * np.ones(m.shape[0]),\n",
        "                 np.ones(m.shape[0] - 1), np.ones(m.shape[0] - n + 1)]\n",
        "    offsets = [-n + 1, -1, 0, 1, n - 1]\n",
        "    return sparse.diags(diagonals, offsets)\n",
        "\n",
        "\n",
        "def create_spdiags_matrix(m, n):\n",
        "    diagonals = [np.ones(m.shape[0] - n + 1), np.ones(m.shape[0] - 1), -4 * np.ones(m.shape[0]),\n",
        "                 np.ones(m.shape[0] - 1), np.ones(m.shape[0] - n + 1)]\n",
        "    offsets = [-n + 1, -1, 0, 1, n - 1]\n",
        "    data = np.array(diagonals)\n",
        "    return sparse.spdiags(data, offsets, m.shape[0], m.shape[0])\n",
        "\n",
        "\n",
        "      \n",
        "def solve_banded(m, b, n):\n",
        "    ab = np.zeros((3, m.shape[0]))  # Initialize the banded matrix representation\n",
        "    ab[0, 1:] = 1  # Upper diagonal\n",
        "    ab[1, :] = -4  # Main diagonal\n",
        "    ab[2, :-1] = 1  # Lower diagonal\n",
        "    return la.solve_banded((1, 1), ab, b)\n",
        "\n",
        "    \n",
        "\n",
        "\n",
        "def spsolve(m, b):\n",
        "    return spla.spsolve(m, b)\n",
        "\n",
        "\n",
        "\n",
        "\n",
        "@njit\n",
        "def zeidel_numba(A, b, x, eps, max_iter=10000000):\n",
        "    n = len(b)\n",
        "    for _ in range(max_iter):\n",
        "        x_new = np.copy(x)\n",
        "        for i in range(n):\n",
        "            s1 = np.dot(A[i, :i], x_new[:i])\n",
        "            s2 = np.dot(A[i, i+1:], x[i+1:])\n",
        "            x_new[i] = (b[i] - s1 - s2) / A[i, i]\n",
        "        if np.allclose(x, x_new, rtol=eps):\n",
        "            return x_new, _\n",
        "        x = np.copy(x_new)\n",
        "    return x, max_iter  # Return x and max_iter if not converged\n",
        "\n",
        "\n",
        "\n",
        "def zeidel_solve_numba(A, b, eps, x=None, max_iter=10000000):\n",
        "    if x is None:\n",
        "        x = np.zeros(A.shape[0])\n",
        "    A_dense = A.toarray()\n",
        "    return zeidel_numba(A_dense, b, x, eps, max_iter)\n",
        "\n",
        "\n",
        "\n",
        "\n",
        "\n",
        "n = 5\n",
        "m = create_banded_matrix(n)\n",
        "b = np.zeros(m.shape[0])\n",
        "b[m.shape[0] // 2] = -1\n",
        "\n",
        "eps_values = [1e-2, 1e-3, 1e-4, 1e-5, 1e-6]\n",
        "\n",
        "# Method 1: solve_banded\n",
        "banded_iterations = []\n",
        "for eps in eps_values:\n",
        "    x = solve_banded(m, b, n)  # No iterations for a direct method\n",
        "    banded_iterations.append(0)\n",
        "\n",
        "# Method 2: spsolve\n",
        "spsolve_iterations = []\n",
        "for eps in eps_values:\n",
        "    m_csc = create_csc_matrix(m)\n",
        "    x_spsolve = spsolve(m_csc, b)  # Store the solution\n",
        "    spsolve_iterations.append(0)\n",
        "    print(f\"spsolve solution for eps={eps}:\\n{x_spsolve}\") # Print or inspect the solution\n",
        "\n",
        "\n",
        "# Method 3: Zeidel\n",
        "zeidel_iterations = []\n",
        "for eps in eps_values:\n",
        "    m_csc = create_csc_matrix(m)\n",
        "    x, it = zeidel_solve_numba(m_csc, b, eps)\n",
        "    zeidel_iterations.append(it)\n",
        "\n",
        "\n",
        "plt.plot(eps_values, banded_iterations, label=\"solve_banded\")\n",
        "plt.plot(eps_values, spsolve_iterations, label=\"spsolve\")\n",
        "plt.plot(eps_values, zeidel_iterations, label=\"Zeidel\")\n",
        "plt.xscale('log')\n",
        "plt.xlabel('Epsilon')\n",
        "plt.ylabel('Iterations')\n",
        "plt.title('Iteration Counts vs. Epsilon')\n",
        "plt.legend()\n",
        "plt.show()"
      ]
    },
    {
      "cell_type": "markdown",
      "metadata": {
        "id": "sS3EHa1aKmJi"
      },
      "source": [
        "#Задача 2. Метод Шульца (минимальных невязок) для вычисления обратной матрицы.\n"
      ]
    },
    {
      "cell_type": "markdown",
      "metadata": {
        "id": "FMtgjEuYcofQ"
      },
      "source": [
        "Реализуйте итерационный метод Шульца для вычисления обратной матрицы.\n",
        "\n",
        "**Описание метода.**\n",
        "\n",
        "\n",
        "Введем невязку $\\Psi^{(k)} = E - AX^{(k)}$, где $X^{(k)}$ - приближение с номером $k$.\n",
        "\n",
        "Рассмотрим $(E - \\Psi^{(k)})^{-1} = E + (\\Psi^{(k)}) + (\\Psi^{(k)})^2 + (\\Psi^{(k)})^3 + ... = (AX^{(k)})^{-1} = (X^{(k)})^{-1}A^{-1}$\n",
        "\n",
        "Умножим обе части на $X^{(k)}$:\n",
        "\n",
        "$X^{(k)}(\\sum\\limits_{i = 0}^{\\infty}(\\Psi^{(k)})^i) = A^{-1}$\n",
        "\n",
        "К сожалению, считать бесконечный ряд мы не можем. Таким образом мы можем ввести итерацию :\n",
        "\n",
        "$X^{(k + 1)} = X^{(k)}(\\sum\\limits_{i = 0}^{m}(\\Psi^{(k)})^i)$\n",
        "\n",
        "Где $m$ - порядок метода.\n",
        "\n",
        "Получается порядок действий:\n",
        "\n",
        "* Задать начальное приближение, порядок метода и необходимую точность.\n",
        "* Вычислить невязку : $\\Psi^{(k)} = E - AX^{(k)}$\n",
        "* Проверить норму невязки на точность\n",
        "* Найти следующее приближение по формуле: $X^{(k + 1)} = X^{(k)}(\\sum\\limits_{i = 0}^{m}(\\Psi^{(k)})^i)$\n",
        "\n",
        "\n",
        "**Замечание:**\n",
        "\n",
        "Данный метод сходится при норме первой невязки меньше единицы."
      ]
    },
    {
      "cell_type": "code",
      "execution_count": null,
      "metadata": {},
      "outputs": [],
      "source": []
    },
    {
      "cell_type": "markdown",
      "metadata": {
        "id": "gpR6GBRtKmXq"
      },
      "source": [
        "#Задача 3. Метод вращений Гивенса и QR-разложение."
      ]
    },
    {
      "cell_type": "markdown",
      "metadata": {
        "id": "IsnxYiIS9_qT"
      },
      "source": [
        "После первой стадии метода вращений Гивенса система имеет вид"
      ]
    },
    {
      "cell_type": "markdown",
      "metadata": {
        "id": "o38hlqPO9g7r"
      },
      "source": [
        "\\begin{aligned}\n",
        "&a_{11}^{(n-1)} x_1+a_{12}^{(n-1)} x_2+a_{13}^{(n-1)} x_3+\\ldots+a_{1 n}^{(n-1)} x_n=b_1^{(n-1)}\\\\\n",
        "&a_{22}^{(1)} x_2+a_{23}^{(1)} x_3+\\ldots+a_{2 n}^{(1)} x_n=b_2^{(1)} \\text {, }\\\\\n",
        "\\ldots\\\\\n",
        "&a_{n 2}^{(1)} x_2+a_{n 3}^{(1)} x_3+\\ldots+a_{n n}^{(1)} x_n=b_n^{(1)} .\n",
        "\\end{aligned}"
      ]
    },
    {
      "cell_type": "markdown",
      "metadata": {
        "id": "qq33P4d7-DjQ"
      },
      "source": [
        "Доказать следующие формулы:\n",
        "$$\n",
        "\\begin{aligned}\n",
        "&a_{1 j}^{(l-1)}=c_{1 l} a_{1 j}^{(l-2)}+s_{1 l} a_{l j}, \\quad a_{l j}^{(1)}=-s_{1 l} a_{1 j}^{(l-2)}+c_{1 l} a_{l j}, \\quad a_{1 j}^{(0)}=a_{1 j},\\\\\n",
        "&\\begin{aligned}\n",
        "& j=1,2, \\ldots, n, \\\\\n",
        "b_1^{(l-1)}=c_{1 l} b_1^{(l-2)}+s_{1 l} b_l, \\quad \\quad b_l^{(1)}=&-s_{1 l} b_1^{(l-2)}+c_{1 l} b_l, \\\\\n",
        "l=2,3, \\ldots, n,\n",
        "\\end{aligned}\\\\\n",
        "&c_{1 l}=\\frac{a_{11}^{(l-2)}}{\\sqrt{\\left(a_{11}^{(l-2)}\\right)^2+a_{l 1}^2}}, \\quad s_{1 l}=\\frac{a_{l 1}}{\\sqrt{\\left(a_{11}^{(l-2)}\\right)^2+a_{l 1}^2}},\n",
        "\\\\\n",
        "& l=2,3, \\ldots, n,\\\\\n",
        "\\end{aligned}\n",
        "$$"
      ]
    },
    {
      "cell_type": "markdown",
      "metadata": {
        "id": "kPjp8qP0-4Cp"
      },
      "source": [
        "После второй стадии метода вращения Гивенса система уравнений имеет вид:\n",
        "\n",
        "\\begin{aligned}\n",
        "&a_{11}^{(n-1)} x_1+a_{12}^{(n-1)} x_2+a_{13}^{(n-1)} x_3+\\ldots+a_{1 n}^{(n-1)} x_n=b_1^{(n-1)}\\\\\n",
        "&a_{22}^{(n-1)} x_2+a_{23}^{(n-1)} x_3+\\ldots+a_{2 n}^{(n-1)} x_n=b_2^{(n-1)} \\text {, }\\\\\n",
        "&a_{33}^{(2)} x_3+\\ldots+a_{3 n}^{(2)} x_n=b_3^{(2)} \\text {, }\\\\\n",
        "\\ldots \\\\\n",
        "&a_{n 3}^{(2)} x_3+\\ldots+a_{n n}^{(2)} x_n=b_n^{(2)}\n",
        "\\end{aligned}  "
      ]
    },
    {
      "cell_type": "markdown",
      "metadata": {
        "id": "lJxuwUP-_KRZ"
      },
      "source": [
        "Доказать следующие формулы\n",
        "$$\n",
        "\\begin{aligned}\n",
        "&a_{2 j}^{(l-1)}=c_{2 l} a_{2 j}^{(l-2)}+s_{2 l} a_{l j}^{(1)}, \\quad a_{l j}^{(2)}=-s_{2 l} a_{2 j}^{(l-2)}+c_{2 l} a_{l j}^{(1)} \\text {, }\\\\\n",
        "&j=2,3, \\ldots, n\\\\\n",
        "&\\begin{aligned}\n",
        "b_2^{(l-1)}=c_{2 l} b_2^{(l-2)}+s_{2 l} b_l^{(1)}, \\quad \\quad b_l^{(2)}=&-s_{2 l} b_2^{(l-2)}+c_{2 l} b_l^{(1)}, \\\\\n",
        "& l=3,4, \\ldots, n,\n",
        "\\end{aligned}\\\\\n",
        "&c_{2 l}=\\frac{a_{22}^{(l-2)}}{\\sqrt{\\left(a_{22}^{(l-2)}\\right)^2+\\left(a_{l 2}^{(1)}\\right)^2}}, \\quad s_{2 l}=\\frac{a_{l 2}^{(1)}}{\\sqrt{\\left(a_{22}^{(l-2)}\\right)^2+\\left(a_{l 2}^{(1)}\\right)^2}}\n",
        "\\end{aligned}  \n",
        "$$"
      ]
    },
    {
      "cell_type": "markdown",
      "metadata": {
        "id": "FdEaBjGZ_b0i"
      },
      "source": [
        "После (n-1) шагов метода Гивенса получаем систему:\n",
        "\n",
        "\\begin{aligned}\n",
        "&a_{11}^{(n-1)} x_1+a_{12}^{(n-1)} x_2+a_{13}^{(n-1)} x_3+\\ldots+a_{1 n}^{(n-1)} x_n=b_1^{(n-1)},\\\\\n",
        "&a_{22}^{(n-1)} x_2+a_{23}^{(n-1)} x_3+\\ldots+a_{2 n}^{(n-1)} x_n=b_2^{(n-1)} \\text {, }\\\\\n",
        "\\ldots \\\\\n",
        "&a_{n n}^{(n-1)} x_n=b_n^{(n-1)} \\text {, }\n",
        "\\end{aligned}  \n",
        "\n",
        "\n"
      ]
    },
    {
      "cell_type": "markdown",
      "metadata": {
        "id": "sU1UOEWM_rOh"
      },
      "source": [
        "Где\n",
        "\n",
        "\\begin{aligned}\n",
        "&a_{k j}^{(l-1)}=c_{k l} a_{k j}^{(l-2)}+s_{k l} a_{l j}^{(k-1)}, \\quad a_{l j}^{(k)}=-s_{k l} a_{k j}^{(l-2)}+c_{k l} a_{l j}^{(k-1)}\\\\\n",
        "&j=k, k+1, \\ldots, n,\\\\\n",
        "&b_k^{(l-1)}=c_{k l} b_k^{(l-2)}+s_{k l} b_l^{(k-1)}, \\quad b_l^{(k)}=-s_{k l} b_k^{(l-2)}+c_{k l} b_l^{(k-1)} \\text {, }\\\\\n",
        "&k=1, \\ldots, n, \\quad l=k+1, \\ldots, n\n",
        "\\end{aligned}\n",
        "\n",
        "а  \n",
        "$$\n",
        "c_{k l}=\\frac{a_{k k}^{(l-2)}}{\\sqrt{\\left(a_{k k}^{(l-2)}\\right)^2+\\left(a_{l k}^{(k-1)}\\right)^2}}, \\quad s_{k l}=\\frac{a_{l k}^{(k-1)}}{\\sqrt{\\left(a_{k k}^{(l-2)}\\right)^2+\\left(a_{l k}^{(k-1)}\\right)^2}}\n",
        "$$"
      ]
    },
    {
      "cell_type": "markdown",
      "metadata": {
        "id": "xZE7dz2wZGzd"
      },
      "source": [
        "Доказать, что метод Гивенса реализует QR-разложение матрицы.\n",
        "\n"
      ]
    },
    {
      "cell_type": "markdown",
      "metadata": {
        "id": "-4to-6uKAKdh"
      },
      "source": [
        "$$\n",
        "A=Q R,\n",
        "$$\n",
        "где $Q$ - ортогональная матрица, а $R-$ верхняя треугольная с положительными элементами на главной диагонали."
      ]
    },
    {
      "cell_type": "markdown",
      "metadata": {},
      "source": []
    },
    {
      "cell_type": "markdown",
      "metadata": {
        "id": "8-476ZEtKmk5"
      },
      "source": [
        "#Задача 4. Асимпотика метода Гивенса."
      ]
    },
    {
      "cell_type": "markdown",
      "metadata": {
        "id": "xzG3RPf-T07c"
      },
      "source": [
        "Покажите, что при больших n метод Гивенса требует\n",
        "$$\n",
        "\\approx 4 n^3 / 3\n",
        "$$\n",
        "  действий умножения.  Докажите, что метод Гаусса требует примерно в 4 раза меньше.  \n",
        "\n",
        "\n",
        ".\n"
      ]
    },
    {
      "cell_type": "markdown",
      "metadata": {},
      "source": []
    },
    {
      "cell_type": "markdown",
      "metadata": {
        "id": "bh77PVzoePUB"
      },
      "source": [
        "#Задача 5. SVD для разреженных матриц и МНК.\n",
        "\n",
        "Для разреженных матриц SVD считают упрощённым методом. Для таких матриц обычно нужны не все сингулярные числа и вектора, а только первые k. Для этого используются специальные алгоритмы. Просто вызовём функцию из модуля scipy.sparse.linalg\n",
        "\n",
        "Чтобы проиллюстрировать это, напишем программу, которая генерирует случайные разреженные матрицы и строит график убывания сингулярных чисел."
      ]
    },
    {
      "cell_type": "code",
      "execution_count": null,
      "metadata": {
        "colab": {
          "base_uri": "https://localhost:8080/",
          "height": 1000
        },
        "id": "9r4fZv6_envD",
        "outputId": "0bb87154-1329-4c96-a93a-0e30f94ee378"
      },
      "outputs": [],
      "source": [
        "import scipy as sp\n",
        "import matplotlib.pyplot as plt\n",
        "import numpy as np\n",
        "\n",
        "def singular_values_attenuation_in_sparse(shape:tuple, density:float):\n",
        "    '''\n",
        "    Исследует убывание сингулярных чисел в разреженных матрицах\n",
        "    размера shape и с плотностью density (от 0 до 1)\n",
        "    '''\n",
        "    sing_values_sum = np.zeros(min(shape)- 1 )\n",
        "\n",
        "    sample_size = 100\n",
        "\n",
        "    for _ in range(sample_size):\n",
        "        sparse = sp.sparse.rand(shape[0], shape[1],\n",
        "                           density=density,\n",
        "                           random_state=42)\n",
        "        sing_values_sum += sp.sparse.linalg.svds(sparse, k=min(shape)-1,\n",
        "                                        return_singular_vectors=False)\n",
        "    plt.figure(figsize=(15, 6))\n",
        "    plt.title(f'Размер: {shape}, плотность: {density}')\n",
        "    plt.ylabel(r'$\\lambda_i / \\lambda_{max}$', fontsize=15)\n",
        "\n",
        "    mean_vals = sing_values_sum[::-1] / sample_size\n",
        "\n",
        "    plt.plot(mean_vals / mean_vals[0])\n",
        "\n",
        "size = 20\n",
        "singular_values_attenuation_in_sparse((size, size), 0.1)\n",
        "singular_values_attenuation_in_sparse((size, size), 0.5)\n",
        "singular_values_attenuation_in_sparse((size, size), 0.9)"
      ]
    },
    {
      "cell_type": "markdown",
      "metadata": {
        "id": "KvghNR7rgYUR"
      },
      "source": [
        "Пусть $A=U \\Sigma V^*$ SVD для матрицы $A$. Тогда псевдообратная матрица равна:\n",
        "$$\n",
        "A^{\\dagger}=V \\Sigma^{\\dagger} U^*\n",
        "$$\n",
        "\n",
        "где $\\Sigma^{\\dagger}$ состоит из обращённых ненулевых сингулярных чисел матрицы $A$. Действительно,\n",
        "$$\n",
        "\\begin{gathered}\n",
        "A^{\\dagger}=\\lim _{\\alpha \\rightarrow 0}\\left(\\alpha I+A^* A\\right)^{-1} A^*=\\lim _{\\alpha \\rightarrow 0}\\left(\\alpha V V^*+V \\Sigma^2 V^*\\right)^{-1} V \\Sigma U^*=\\lim _{\\alpha \\rightarrow 0}\\left(V\\left(\\alpha I+\\Sigma^2\\right) V^*\\right)^{-1} V \\Sigma U^* \\\\\n",
        "=V \\lim _{\\alpha \\rightarrow 0}\\left(\\alpha I+\\Sigma^2\\right)^{-1} \\Sigma U^*=V \\Sigma^{\\dagger} U^*\n",
        "\\end{gathered}\n",
        "$$\n",
        "\n",
        "- Вы можете проверить, что $\\Sigma^{\\dagger}$ состоит из обращённых ненулевых сингулярных чисел\n",
        "- Если сингулярные числа малы, их можно не обращать, а просто приравнять к нулю. Это даст решение, менее чувствительное к шуму в правой части.\n",
        "\n",
        "Псевдообратная матрица решает задачу минимизации методом наименьших квадратов. Однако она не является самым оптимальным способом решить эту задачу. Более эффективно использовать QR-разложение. Если $A$ имеет полный ранг, то\n",
        "\n",
        "$$\n",
        "x=A^{\\dagger} b=\\left(A^* A\\right)^{-1} A^* b=\\left((Q R)^*(Q R)\\right)^{-1}(Q R)^* b=\\left(R^* Q^* Q R\\right)^{-1} R^* Q^* b=R^{-1} Q^* b .\n",
        "$$\n",
        "\n",
        "\n",
        "Таким образом, необходимо решить следующую квадратную систему: $R x=Q^* b$\n",
        "- $\\quad R$ верхнетреугольная\n",
        "- Решение требует $\\mathcal{O}\\left(n^2\\right)$ операций\n",
        "- Более устойчивый способ, чем использование псевдообратной матрицы напрямую.\n"
      ]
    },
    {
      "cell_type": "markdown",
      "metadata": {
        "id": "K41uE748gxy7"
      },
      "source": [
        "Выполните следующие задания:\n",
        "\n",
        "- Напишите программу, которая вычисляет псевдообратную матрицу с помощью SVD. Исследуйте, что происходит с числом обусловленности.\n",
        "\n",
        "- Напишите решение задачи МНК с помощью вычисления псевдобратной матрицы через SVD\n",
        "\n",
        "- Реализуйте QR-разложением и сравните с работой алгоритма из предыдущего пункта на случайных матрицах. Отдельно проведите сравнение на разреженных матрицах и плотных, выбирая разное значение density.\n",
        "\n",
        "\n",
        "\n",
        "\n",
        "\n"
      ]
    },
    {
      "cell_type": "code",
      "execution_count": null,
      "metadata": {},
      "outputs": [],
      "source": []
    },
    {
      "cell_type": "markdown",
      "metadata": {
        "id": "634QUTkyKnWR"
      },
      "source": [
        "#Задача 6*. Итерационное SVD."
      ]
    },
    {
      "cell_type": "markdown",
      "metadata": {
        "id": "TLumOjz5EBcp"
      },
      "source": [
        "Напишите свои собственные функции вычисления SVD простым итерационным методом и с помощью метода вращений Якоби. Сравните их работу с работой библиотечной функции numpy.linalg.svd.\n",
        "\n",
        "\n",
        "**Описание методов.**\n",
        "\n",
        "**1. Простой итерационный алгоритм**\n",
        "\n",
        "Основная процедура — поиск наилучшего приближения произвольной $ m \\times n$  матрицы $X=(x_{ij})$ матрицей вида $b \\otimes a = (b_i a_j)$ (где b — m-мерный вектор, а a — n-мерный вектор) методом наименьших квадратов:\n",
        "\n",
        "\n",
        "$F(b, a) = \\frac{1}{2}\\sum_{i=1}^m \\sum_{j=1}^n (x_{ij} - b_i a_j )^2 \\to \\min$\n",
        "\n",
        "\n",
        "Решение этой задачи дается последовательными итерациями по явным формулам. При фиксированном векторе $a=(a_j)$  значения $b=(b_i)$ , доставляющие минимум форме $F(b, a)$ , однозначно и явно определяются из равенств $\\partial F/ \\partial b_i = 0$ :\n",
        "\n",
        "$\\frac{\\partial F}{\\partial b_i}$ $= - \\sum_{j=1}^n (x_{ij} - b_i a_j )a_j = 0$; $b_i = \\frac{\\sum_{j=1}^n x_{ij}  a_j}{\\sum_{j=1}^n a_j^2 } $.\n",
        "\n",
        "\n",
        "Аналогично, при фиксированном векторе $b =(b_ i)$  определяются значения $a=(a_j)$ :\n",
        "\n",
        "$a_j = \\frac{\\sum_{i=1}^m b_i x_{ij} }{\\sum_{i =1}^m b_i ^2 } $.\n",
        "\n",
        "\n",
        "B качестве начального приближения вектора $a$ возьмем случайный вектор единичной длины, вычисляем вектор $b$, далее для этого вектора $b$ вычисляем вектор $a$ и т. д. Каждый шаг уменьшает значение $F(b, a)$ . В качестве критерия остановки используется малость относительного уменьшения значения минимизируемого функционала $F(b, a)$  за шаг итерации $(\\Delta F / F )$ или малость самого значения $F$.\n",
        "\n",
        "В результате для матрицы $X=(x_{ij})$ получили наилучшее приближение матрицей $P_1$ вида $b^1 \\otimes a^1 = (b_i^1  a_j^1)$ (здесь верхним индексом обозначен номер итерации). Далее, из матрицы $X$ вычитаем полученную матрицу $P_1$, и для полученной матрицы уклонений $X_1=X-P_1$ вновь ищем наилучшее приближение $P_2 $этого же вида и т. д., пока, например, норма $X_k$ не станет достаточно малой. В результате получили итерационную процедуру разложения матрицы X в виде суммы матриц ранга 1, то есть $X=P_1+P_2+... +P_q $ $(P_l = b^l \\otimes a^l) $ . Полагаем  $\\sigma_l = \\|a^l\\| \\|b^l\\|$ и нормируем векторы  $a^l \\, , \\, b^l: a^l:= a^l/ \\| a^l\\|; \\, \\, b^l:= b^l/ \\| b^l\\| $. В результате получена аппроксимация сингулярных чисел $ \\sigma_l$  и сингулярных векторов (правых —  $a^l$ и левых — $b^l$).\n",
        "\n",
        "К достоинствам этого алгоритма относится его исключительная простота и возможность почти без изменений перенести его на данные с пробелами, а также взвешенные данные.\n",
        "\n",
        "Существуют различные модификации базового алгоритма, улучшающие точность и устойчивость. Например, векторы главных компонент $a^l$ при разных $l$ должны быть ортогональны «по построению», однако при большом числе итерации (большая размерность, много компонент) малые отклонения от ортогональности накапливаются и может потребоваться специальная коррекция $a^l$ на каждом шаге, обеспечивающая его ортогональность ранее найденным главным компонентам.\n",
        "\n",
        "**2. Метод Якоби.**\n",
        "\n",
        "Метод Якоби (вращений)\n",
        "\n",
        "На каждом шаге вычисляется вращение Якоби $J$, с помощью которого матрица $G^\\top G$ неявно пересчитывается в $J^\\top G^\\top GJ$; вращение выбрано так, чтобы пара внедиагональных элементов из $G^\\top G$ обратилась в нули в матрице $J^\\top G^\\top GJ$. При этом ни $G^\\top G$, ни $J^\\top G^\\top GJ$ не вычисляются в явном виде; вместо них вычисляется матрица $GJ$. Поэтому алгоритм называется методом односторонних вращений.\n",
        "\n",
        "Пусть $a_{ij}$ - элемент, расположенный в i-ой строке и j-ом столбце матрицы $G^\\top G$.\n",
        "\n",
        "$τ=(a_{jj}−a_{kk})/(2⋅a_{jk})$\n",
        "\n",
        "$t=\\frac{sign(τ)}{|\\tau| + \\sqrt{1 + \\tau^2}}$. При $τ=0$ считаем $sign(τ)=1$, то есть $θ=\\frac{\\pi}{4}$.\n",
        "\n",
        "$c=\\frac{1}{\\sqrt{1 + t^2}}$, где $c=cosθ$\n",
        "\n",
        "$s=c⋅t$, где $s=sinθ$\n",
        "\n",
        "$G=G⋅R(j,k,θ)$\n",
        "\n",
        "$J=J⋅R(j,k,θ)$\n",
        "\n",
        "Здесь $R(j,k,θ)$ — матрица вращений Якоби, которая имеет следующий вид:\n",
        "\n",
        "\n",
        "\n",
        "\n",
        "Одностороннее вращение Якоби в координатной плоскости $i,j$ вычисляется в том случае, если элемент $a_{ij}$ удовлетворяет условию: $|a_{ij}| ≥ε\\sqrt{a_{ii}a_{jj}}$."
      ]
    },
    {
      "cell_type": "code",
      "execution_count": null,
      "metadata": {
        "id": "BrgaKvtPi6vm"
      },
      "outputs": [],
      "source": []
    }
  ],
  "metadata": {
    "colab": {
      "provenance": [],
      "toc_visible": true
    },
    "kernelspec": {
      "display_name": "Python 3",
      "name": "python3"
    },
    "language_info": {
      "codemirror_mode": {
        "name": "ipython",
        "version": 3
      },
      "file_extension": ".py",
      "mimetype": "text/x-python",
      "name": "python",
      "nbconvert_exporter": "python",
      "pygments_lexer": "ipython3",
      "version": "3.10.12"
    }
  },
  "nbformat": 4,
  "nbformat_minor": 0
}
